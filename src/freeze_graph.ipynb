{
 "cells": [
  {
   "cell_type": "code",
   "execution_count": null,
   "metadata": {},
   "outputs": [],
   "source": [
    "\"\"\"Imports a model metagraph and checkpoint file, converts the variables to constants\n",
    "and exports the model as a graphdef protobuf\n",
    "\"\"\"\n",
    "# MIT License\n",
    "# \n",
    "# Copyright (c) 2016 David Sandberg\n",
    "# \n",
    "# Permission is hereby granted, free of charge, to any person obtaining a copy\n",
    "# of this software and associated documentation files (the \"Software\"), to deal\n",
    "# in the Software without restriction, including without limitation the rights\n",
    "# to use, copy, modify, merge, publish, distribute, sublicense, and/or sell\n",
    "# copies of the Software, and to permit persons to whom the Software is\n",
    "# furnished to do so, subject to the following conditions:\n",
    "# \n",
    "# The above copyright notice and this permission notice shall be included in all\n",
    "# copies or substantial portions of the Software.\n",
    "# \n",
    "# THE SOFTWARE IS PROVIDED \"AS IS\", WITHOUT WARRANTY OF ANY KIND, EXPRESS OR\n",
    "# IMPLIED, INCLUDING BUT NOT LIMITED TO THE WARRANTIES OF MERCHANTABILITY,\n",
    "# FITNESS FOR A PARTICULAR PURPOSE AND NONINFRINGEMENT. IN NO EVENT SHALL THE\n",
    "# AUTHORS OR COPYRIGHT HOLDERS BE LIABLE FOR ANY CLAIM, DAMAGES OR OTHER\n",
    "# LIABILITY, WHETHER IN AN ACTION OF CONTRACT, TORT OR OTHERWISE, ARISING FROM,\n",
    "# OUT OF OR IN CONNECTION WITH THE SOFTWARE OR THE USE OR OTHER DEALINGS IN THE\n",
    "# SOFTWARE."
   ]
  },
  {
   "cell_type": "code",
   "execution_count": null,
   "metadata": {},
   "outputs": [],
   "source": [
    "from __future__ import absolute_import\n",
    "from __future__ import division\n",
    "from __future__ import print_function"
   ]
  },
  {
   "cell_type": "code",
   "execution_count": null,
   "metadata": {
    "lines_to_next_cell": 1
   },
   "outputs": [],
   "source": [
    "from tensorflow.python.framework import graph_util\n",
    "import tensorflow as tf\n",
    "import argparse\n",
    "import os\n",
    "import sys\n",
    "import facenet\n",
    "from six.moves import xrange  # @UnresolvedImport"
   ]
  },
  {
   "cell_type": "code",
   "execution_count": null,
   "metadata": {
    "lines_to_next_cell": 1
   },
   "outputs": [],
   "source": [
    "def main(args):\n",
    "    with tf.Graph().as_default():\n",
    "        with tf.Session() as sess:\n",
    "            # Load the model metagraph and checkpoint\n",
    "            print('Model directory: %s' % args.model_dir)\n",
    "            meta_file, ckpt_file = facenet.get_model_filenames(os.path.expanduser(args.model_dir))\n",
    "            \n",
    "            print('Metagraph file: %s' % meta_file)\n",
    "            print('Checkpoint file: %s' % ckpt_file)\n",
    "\n",
    "            model_dir_exp = os.path.expanduser(args.model_dir)\n",
    "            saver = tf.train.import_meta_graph(os.path.join(model_dir_exp, meta_file), clear_devices=True)\n",
    "            tf.get_default_session().run(tf.global_variables_initializer())\n",
    "            tf.get_default_session().run(tf.local_variables_initializer())\n",
    "            saver.restore(tf.get_default_session(), os.path.join(model_dir_exp, ckpt_file))\n",
    "            \n",
    "            # Retrieve the protobuf graph definition and fix the batch norm nodes\n",
    "            input_graph_def = sess.graph.as_graph_def()\n",
    "            \n",
    "            # Freeze the graph def\n",
    "            output_graph_def = freeze_graph_def(sess, input_graph_def, 'embeddings,label_batch')\n",
    "\n",
    "        # Serialize and dump the output graph to the filesystem\n",
    "        with tf.gfile.GFile(args.output_file, 'wb') as f:\n",
    "            f.write(output_graph_def.SerializeToString())\n",
    "        print(\"%d ops in the final graph: %s\" % (len(output_graph_def.node), args.output_file))"
   ]
  },
  {
   "cell_type": "code",
   "execution_count": null,
   "metadata": {
    "lines_to_next_cell": 1
   },
   "outputs": [],
   "source": [
    "def freeze_graph_def(sess, input_graph_def, output_node_names):\n",
    "    for node in input_graph_def.node:\n",
    "        if node.op == 'RefSwitch':\n",
    "            node.op = 'Switch'\n",
    "            for index in xrange(len(node.input)):\n",
    "                if 'moving_' in node.input[index]:\n",
    "                    node.input[index] = node.input[index] + '/read'\n",
    "        elif node.op == 'AssignSub':\n",
    "            node.op = 'Sub'\n",
    "            if 'use_locking' in node.attr: del node.attr['use_locking']\n",
    "        elif node.op == 'AssignAdd':\n",
    "            node.op = 'Add'\n",
    "            if 'use_locking' in node.attr: del node.attr['use_locking']\n",
    "    \n",
    "    # Get the list of important nodes\n",
    "    whitelist_names = []\n",
    "    for node in input_graph_def.node:\n",
    "        if (node.name.startswith('InceptionResnet') or node.name.startswith('embeddings') or \n",
    "                node.name.startswith('image_batch') or node.name.startswith('label_batch') or\n",
    "                node.name.startswith('phase_train') or node.name.startswith('Logits')):\n",
    "            whitelist_names.append(node.name)\n",
    "\n",
    "    # Replace all the variables in the graph with constants of the same values\n",
    "    output_graph_def = graph_util.convert_variables_to_constants(\n",
    "        sess, input_graph_def, output_node_names.split(\",\"),\n",
    "        variable_names_whitelist=whitelist_names)\n",
    "    return output_graph_def"
   ]
  },
  {
   "cell_type": "code",
   "execution_count": null,
   "metadata": {
    "lines_to_next_cell": 1
   },
   "outputs": [],
   "source": [
    "def parse_arguments(argv):\n",
    "    parser = argparse.ArgumentParser()\n",
    "    \n",
    "    parser.add_argument('model_dir', type=str, \n",
    "        help='Directory containing the metagraph (.meta) file and the checkpoint (ckpt) file containing model parameters')\n",
    "    parser.add_argument('output_file', type=str, \n",
    "        help='Filename for the exported graphdef protobuf (.pb)')\n",
    "    return parser.parse_args(argv)"
   ]
  },
  {
   "cell_type": "code",
   "execution_count": null,
   "metadata": {},
   "outputs": [],
   "source": [
    "if __name__ == '__main__':\n",
    "    main(parse_arguments(sys.argv[1:]))"
   ]
  }
 ],
 "metadata": {
  "jupytext": {
   "cell_metadata_filter": "-all",
   "main_language": "python",
   "notebook_metadata_filter": "-all"
  }
 },
 "nbformat": 4,
 "nbformat_minor": 2
}
