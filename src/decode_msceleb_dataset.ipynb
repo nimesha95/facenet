{
 "cells": [
  {
   "cell_type": "code",
   "execution_count": null,
   "metadata": {},
   "outputs": [],
   "source": [
    "\"\"\"Decode the MsCelebV1 dataset in TSV (tab separated values) format downloaded from\n",
    "https://www.microsoft.com/en-us/research/project/ms-celeb-1m-challenge-recognizing-one-million-celebrities-real-world/\n",
    "\"\"\"\n",
    "# MIT License\n",
    "# \n",
    "# Copyright (c) 2016 David Sandberg\n",
    "# \n",
    "# Permission is hereby granted, free of charge, to any person obtaining a copy\n",
    "# of this software and associated documentation files (the \"Software\"), to deal\n",
    "# in the Software without restriction, including without limitation the rights\n",
    "# to use, copy, modify, merge, publish, distribute, sublicense, and/or sell\n",
    "# copies of the Software, and to permit persons to whom the Software is\n",
    "# furnished to do so, subject to the following conditions:\n",
    "# \n",
    "# The above copyright notice and this permission notice shall be included in all\n",
    "# copies or substantial portions of the Software.\n",
    "# \n",
    "# THE SOFTWARE IS PROVIDED \"AS IS\", WITHOUT WARRANTY OF ANY KIND, EXPRESS OR\n",
    "# IMPLIED, INCLUDING BUT NOT LIMITED TO THE WARRANTIES OF MERCHANTABILITY,\n",
    "# FITNESS FOR A PARTICULAR PURPOSE AND NONINFRINGEMENT. IN NO EVENT SHALL THE\n",
    "# AUTHORS OR COPYRIGHT HOLDERS BE LIABLE FOR ANY CLAIM, DAMAGES OR OTHER\n",
    "# LIABILITY, WHETHER IN AN ACTION OF CONTRACT, TORT OR OTHERWISE, ARISING FROM,\n",
    "# OUT OF OR IN CONNECTION WITH THE SOFTWARE OR THE USE OR OTHER DEALINGS IN THE\n",
    "# SOFTWARE."
   ]
  },
  {
   "cell_type": "code",
   "execution_count": null,
   "metadata": {},
   "outputs": [],
   "source": [
    "from __future__ import absolute_import\n",
    "from __future__ import division\n",
    "from __future__ import print_function"
   ]
  },
  {
   "cell_type": "code",
   "execution_count": null,
   "metadata": {},
   "outputs": [],
   "source": [
    "from scipy import misc\n",
    "import numpy as np\n",
    "import base64\n",
    "import sys\n",
    "import os\n",
    "import cv2\n",
    "import argparse\n",
    "import facenet"
   ]
  },
  {
   "cell_type": "markdown",
   "metadata": {},
   "source": [
    "File format: text files, each line is an image record containing 6 columns, delimited by TAB.\n",
    "Column1: Freebase MID\n",
    "Column2: Query/Name\n",
    "Column3: ImageSearchRank\n",
    "Column4: ImageURL\n",
    "Column5: PageURL\n",
    "Column6: ImageData_Base64Encoded"
   ]
  },
  {
   "cell_type": "code",
   "execution_count": null,
   "metadata": {
    "lines_to_next_cell": 1
   },
   "outputs": [],
   "source": [
    "def main(args):\n",
    "    output_dir = os.path.expanduser(args.output_dir)\n",
    "  \n",
    "    if not os.path.exists(output_dir):\n",
    "        os.mkdir(output_dir)\n",
    "  \n",
    "    # Store some git revision info in a text file in the output directory\n",
    "    src_path,_ = os.path.split(os.path.realpath(__file__))\n",
    "    facenet.store_revision_info(src_path, output_dir, ' '.join(sys.argv))\n",
    "    \n",
    "    i = 0\n",
    "    for f in args.tsv_files:\n",
    "        for line in f:\n",
    "            fields = line.split('\\t')\n",
    "            class_dir = fields[0]\n",
    "            img_name = fields[1] + '-' + fields[4] + '.' + args.output_format\n",
    "            img_string = fields[5]\n",
    "            img_dec_string = base64.b64decode(img_string)\n",
    "            img_data = np.fromstring(img_dec_string, dtype=np.uint8)\n",
    "            img = cv2.imdecode(img_data, cv2.IMREAD_COLOR) #pylint: disable=maybe-no-member\n",
    "            if args.size:\n",
    "                img = misc.imresize(img, (args.size, args.size), interp='bilinear')\n",
    "            full_class_dir = os.path.join(output_dir, class_dir)\n",
    "            if not os.path.exists(full_class_dir):\n",
    "                os.mkdir(full_class_dir)\n",
    "            full_path = os.path.join(full_class_dir, img_name.replace('/','_'))\n",
    "            cv2.imwrite(full_path, img) #pylint: disable=maybe-no-member\n",
    "            print('%8d: %s' % (i, full_path))\n",
    "            i += 1"
   ]
  },
  {
   "cell_type": "code",
   "execution_count": null,
   "metadata": {
    "lines_to_next_cell": 2
   },
   "outputs": [],
   "source": [
    "if __name__ == '__main__':\n",
    "    parser = argparse.ArgumentParser()\n",
    "\n",
    "    parser.add_argument('output_dir', type=str, help='Output base directory for the image dataset')\n",
    "    parser.add_argument('tsv_files', type=argparse.FileType('r'), nargs='+', help='Input TSV file name(s)')\n",
    "    parser.add_argument('--size', type=int, help='Images are resized to the given size')\n",
    "    parser.add_argument('--output_format', type=str, help='Format of the output images', default='png', choices=['png', 'jpg'])\n",
    "\n",
    "    main(parser.parse_args())"
   ]
  }
 ],
 "metadata": {
  "jupytext": {
   "cell_metadata_filter": "-all",
   "main_language": "python",
   "notebook_metadata_filter": "-all"
  }
 },
 "nbformat": 4,
 "nbformat_minor": 2
}
