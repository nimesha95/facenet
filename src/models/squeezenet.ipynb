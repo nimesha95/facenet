{
 "cells": [
  {
   "cell_type": "code",
   "execution_count": null,
   "metadata": {},
   "outputs": [],
   "source": [
    "from __future__ import absolute_import\n",
    "from __future__ import division\n",
    "from __future__ import print_function"
   ]
  },
  {
   "cell_type": "code",
   "execution_count": null,
   "metadata": {
    "lines_to_next_cell": 1
   },
   "outputs": [],
   "source": [
    "import tensorflow as tf\n",
    "import tensorflow.contrib.slim as slim"
   ]
  },
  {
   "cell_type": "code",
   "execution_count": null,
   "metadata": {
    "lines_to_next_cell": 1
   },
   "outputs": [],
   "source": [
    "def fire_module(inputs,\n",
    "                squeeze_depth,\n",
    "                expand_depth,\n",
    "                reuse=None,\n",
    "                scope=None,\n",
    "                outputs_collections=None):\n",
    "    with tf.variable_scope(scope, 'fire', [inputs], reuse=reuse):\n",
    "        with slim.arg_scope([slim.conv2d, slim.max_pool2d],\n",
    "                            outputs_collections=None):\n",
    "            net = squeeze(inputs, squeeze_depth)\n",
    "            outputs = expand(net, expand_depth)\n",
    "            return outputs"
   ]
  },
  {
   "cell_type": "code",
   "execution_count": null,
   "metadata": {
    "lines_to_next_cell": 1
   },
   "outputs": [],
   "source": [
    "def squeeze(inputs, num_outputs):\n",
    "    return slim.conv2d(inputs, num_outputs, [1, 1], stride=1, scope='squeeze')"
   ]
  },
  {
   "cell_type": "code",
   "execution_count": null,
   "metadata": {
    "lines_to_next_cell": 1
   },
   "outputs": [],
   "source": [
    "def expand(inputs, num_outputs):\n",
    "    with tf.variable_scope('expand'):\n",
    "        e1x1 = slim.conv2d(inputs, num_outputs, [1, 1], stride=1, scope='1x1')\n",
    "        e3x3 = slim.conv2d(inputs, num_outputs, [3, 3], scope='3x3')\n",
    "    return tf.concat([e1x1, e3x3], 3)"
   ]
  },
  {
   "cell_type": "code",
   "execution_count": null,
   "metadata": {},
   "outputs": [],
   "source": [
    "def inference(images, keep_probability, phase_train=True, bottleneck_layer_size=128, weight_decay=0.0, reuse=None):\n",
    "    batch_norm_params = {\n",
    "        # Decay for the moving averages.\n",
    "        'decay': 0.995,\n",
    "        # epsilon to prevent 0s in variance.\n",
    "        'epsilon': 0.001,\n",
    "        # force in-place updates of mean and variance estimates\n",
    "        'updates_collections': None,\n",
    "        # Moving averages ends up in the trainable variables collection\n",
    "        'variables_collections': [ tf.GraphKeys.TRAINABLE_VARIABLES ],\n",
    "    }\n",
    "    with slim.arg_scope([slim.conv2d, slim.fully_connected],\n",
    "                        weights_initializer=slim.xavier_initializer_conv2d(uniform=True),\n",
    "                        weights_regularizer=slim.l2_regularizer(weight_decay),\n",
    "                        normalizer_fn=slim.batch_norm,\n",
    "                        normalizer_params=batch_norm_params):\n",
    "        with tf.variable_scope('squeezenet', [images], reuse=reuse):\n",
    "            with slim.arg_scope([slim.batch_norm, slim.dropout],\n",
    "                                is_training=phase_train):\n",
    "                net = slim.conv2d(images, 96, [7, 7], stride=2, scope='conv1')\n",
    "                net = slim.max_pool2d(net, [3, 3], stride=2, scope='maxpool1')\n",
    "                net = fire_module(net, 16, 64, scope='fire2')\n",
    "                net = fire_module(net, 16, 64, scope='fire3')\n",
    "                net = fire_module(net, 32, 128, scope='fire4')\n",
    "                net = slim.max_pool2d(net, [2, 2], stride=2, scope='maxpool4')\n",
    "                net = fire_module(net, 32, 128, scope='fire5')\n",
    "                net = fire_module(net, 48, 192, scope='fire6')\n",
    "                net = fire_module(net, 48, 192, scope='fire7')\n",
    "                net = fire_module(net, 64, 256, scope='fire8')\n",
    "                net = slim.max_pool2d(net, [3, 3], stride=2, scope='maxpool8')\n",
    "                net = fire_module(net, 64, 256, scope='fire9')\n",
    "                net = slim.dropout(net, keep_probability)\n",
    "                net = slim.conv2d(net, 1000, [1, 1], activation_fn=None, normalizer_fn=None, scope='conv10')\n",
    "                net = slim.avg_pool2d(net, net.get_shape()[1:3], scope='avgpool10')\n",
    "                net = tf.squeeze(net, [1, 2], name='logits')\n",
    "                net = slim.fully_connected(net, bottleneck_layer_size, activation_fn=None, \n",
    "                        scope='Bottleneck', reuse=False)\n",
    "    return net, None"
   ]
  }
 ],
 "metadata": {
  "jupytext": {
   "cell_metadata_filter": "-all",
   "main_language": "python",
   "notebook_metadata_filter": "-all"
  }
 },
 "nbformat": 4,
 "nbformat_minor": 2
}
